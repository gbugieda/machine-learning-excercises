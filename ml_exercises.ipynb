{
 "cells": [
  {
   "cell_type": "markdown",
   "id": "collected-preliminary",
   "metadata": {},
   "source": [
    "# Questions\n",
    "\n",
    "Fill in your name and the link to this file on your github.\n",
    "\n",
    "* Name: Gia Bugieda  \n",
    "* Link to github URL: https://github.com/gbugieda/machine-learning-excercises"
   ]
  },
  {
   "cell_type": "code",
   "execution_count": 26,
   "id": "academic-generation",
   "metadata": {},
   "outputs": [],
   "source": [
    "import pandas as pd\n",
    "import numpy as np\n",
    "import scipy.stats as st\n",
    "import matplotlib.pyplot as plt\n",
    "import scipy\n",
    "\n",
    "from sklearn.naive_bayes import GaussianNB\n",
    "from sklearn import metrics\n",
    "from sklearn import datasets\n",
    "from sklearn.model_selection import train_test_split\n",
    "from sklearn.linear_model import LinearRegression"
   ]
  },
  {
   "cell_type": "markdown",
   "id": "academic-complexity",
   "metadata": {},
   "source": [
    "# ML: Linear Regression\n",
    "\n",
    "So this starts with linear regression. If you want a deeper dive than what I cover in class, you can refer to [this page](https://realpython.com/linear-regression-in-python/)\n",
    "\n",
    "The exercises come from this workbook, which has somewhat helpful explanations too: https://csmastersuh.github.io/data_analysis_with_python_2020/linear_regression.html"
   ]
  },
  {
   "cell_type": "markdown",
   "id": "crude-numbers",
   "metadata": {},
   "source": [
    "# Exercise 10: Linear Regression\n",
    "\n",
    "You'll need to make up some data for this. Don't spend too much time on this one, it's less interesting compared to the others."
   ]
  },
  {
   "cell_type": "code",
   "execution_count": 27,
   "id": "significant-motorcycle",
   "metadata": {},
   "outputs": [
    {
     "name": "stdout",
     "output_type": "stream",
     "text": [
      "Slope:  1.923542112235756\n",
      "Intercept:  1.5113274454722578\n"
     ]
    },
    {
     "data": {
      "image/png": "[encoded data removed]",
      "text/plain": [
       "<Figure size 432x288 with 1 Axes>"
      ]
     },
     "metadata": {
      "needs_background": "light"
     },
     "output_type": "display_data"
    }
   ],
   "source": [
    "n=20\n",
    "# Linearly increasing x values\n",
    "x = np.linspace(0, 10, n)\n",
    "# Wonky line of points\n",
    "y = x*2 + 1 + 1*np.random.randn(n)\n",
    "#display(x, y)\n",
    "#plt.scatter(x, y)\n",
    "#plt.show()\n",
    "\n",
    "\n",
    "# Do actual linear regression here\n",
    "def fit_line(x,y):\n",
    "    model = LinearRegression(fit_intercept=True)\n",
    "    model.fit(x[:,np.newaxis], y)\n",
    "    return (model.coef_[0],model.intercept_)\n",
    "\n",
    "\n",
    "def main():\n",
    "    slope,intercept = fit_line(x,y)\n",
    "    print(\"Slope: \", slope)\n",
    "    print(\"Intercept: \", intercept)\n",
    "    xfit=np.linspace(0,10,100)\n",
    "    yfit= slope*xfit + intercept # y = mx+b\n",
    "    plt.scatter(x,y) #showing original data points\n",
    "    plt.plot(xfit,yfit) #plotting my line\n",
    "    plt.show()\n",
    "    \n",
    "    \n",
    "main()"
   ]
  },
  {
   "cell_type": "markdown",
   "id": "twenty-coordinate",
   "metadata": {},
   "source": [
    "# Exercise 11: Mystery Data\n",
    "\n",
    "This one is far more interesting. You can download the file from [here](https://raw.githubusercontent.com/AnkS4/hy-data-analysis-with-python-2020/master/part05-e11_mystery_data/src/mystery_data.tsv). Make sure it gets the right filename!\n",
    "\n",
    "You don't need to define any functions, as they demand, although you might find that helpful to do."
   ]
  },
  {
   "cell_type": "code",
   "execution_count": 28,
   "id": "growing-blend",
   "metadata": {},
   "outputs": [
    {
     "name": "stdout",
     "output_type": "stream",
     "text": [
      "Coefficient of X1 is 2.7586066857399567\n",
      "Coefficient of X2 is -2.017739903421609\n",
      "Coefficient of X3 is 6.341012911933917\n",
      "Coefficient of X4 is 0.37382551354719074\n",
      "Coefficient of X5 is -19.722787617622036\n"
     ]
    }
   ],
   "source": [
    "import warnings\n",
    "warnings.filterwarnings('ignore')\n",
    "\n",
    "def mystery_data():\n",
    "    coeff_arr = []\n",
    "    cols = ['X1', 'X2','X3', 'X4', 'X5']\n",
    "    #read in file\n",
    "    df = pd.read_csv(\"mystery_data.tsv\", sep='\\t')\n",
    "    for num in range(0,5):\n",
    "        model = LinearRegression(fit_intercept=True)\n",
    "        model.fit(df[cols[num]][:,np.newaxis], df['Y'])\n",
    "        coeff_arr.append(model.coef_[0])\n",
    "    \n",
    "    return coeff_arr\n",
    "    \n",
    "\n",
    "def main():\n",
    "    \n",
    "    arr = mystery_data();\n",
    "    print(\"Coefficient of X1 is\",arr[0])\n",
    "    print(\"Coefficient of X2 is\",arr[1])\n",
    "    print(\"Coefficient of X3 is\",arr[2])\n",
    "    print(\"Coefficient of X4 is\",arr[3])\n",
    "    print(\"Coefficient of X5 is\",arr[4])\n",
    "    \n",
    "main()\n",
    "    "
   ]
  },
  {
   "cell_type": "markdown",
   "id": "completed-thriller",
   "metadata": {},
   "source": [
    "## Exercise 12: Coefficient of Determination\n",
    "\n",
    "Read over this entire problem, parts 1 and 2.\n",
    "\n",
    "This reuses the same `mystery_data.tsv` file as before.\n",
    "\n",
    "Again, you do not need to define their function. Just calculate the R2 scores and print them, as they direct."
   ]
  },
  {
   "cell_type": "code",
   "execution_count": 29,
   "id": "early-romantic",
   "metadata": {},
   "outputs": [
    {
     "name": "stdout",
     "output_type": "stream",
     "text": [
      "R2-score with feature(s) X: 1.0\n",
      "R2-score with feature(s) X1: 0.01691827260276868\n",
      "R2-score with feature(s) X2: 0.008964585308688933\n",
      "R2-score with feature(s) X3: 0.08785404530656282\n",
      "R2-score with feature(s) X4: 0.0003023708825460325\n",
      "R2-score with feature(s) X5: 0.8679744020096123\n"
     ]
    }
   ],
   "source": [
    "#fit data using linear regression\n",
    "\n",
    "r2_arr = []\n",
    "cols = ['X1', 'X2','X3', 'X4', 'X5']\n",
    "#read in file\n",
    "df = pd.read_csv(\"mystery_data.tsv\", sep='\\t')\n",
    "model.fit(df.iloc[:,0:5],df['Y'])\n",
    "x = model.score(df.iloc[:,0:5],df['Y'])\n",
    "r2_arr.append(x)\n",
    "for num in range(0,5):\n",
    "    model = LinearRegression(fit_intercept=True)\n",
    "    model.fit(df[cols[num]][:,np.newaxis], df['Y'])\n",
    "    r2_arr.append(model.score(df[cols[num]][:,np.newaxis], df['Y']))\n",
    "\n",
    "\n",
    "print(\"R2-score with feature(s) X:\", r2_arr[0])\n",
    "print(\"R2-score with feature(s) X1:\", r2_arr[1])\n",
    "print(\"R2-score with feature(s) X2:\", r2_arr[2])\n",
    "print(\"R2-score with feature(s) X3:\", r2_arr[3])\n",
    "print(\"R2-score with feature(s) X4:\", r2_arr[4])\n",
    "print(\"R2-score with feature(s) X5:\", r2_arr[5])"
   ]
  },
  {
   "cell_type": "markdown",
   "id": "wrong-ambassador",
   "metadata": {},
   "source": [
    "## Exercise 13: Cycling Weather\n",
    "\n",
    "I've already prepared the data that they require for this assignment. You can download it [here](https://gist.githubusercontent.com/acbart/466174a04e9a2505c4c25f91fc6dd4f6/raw/726865070677ec7dede17a08095624e0ea35e7cd/biking.csv).\n",
    "\n",
    "The first column is the index, you can safely ignore it. The next 7 columns are straightforward. The last few columns are locations in Finland that have measuring stations. I recommend using `Baana` as they say in the instructions for testing.\n"
   ]
  },
  {
   "cell_type": "code",
   "execution_count": 51,
   "id": "modern-found",
   "metadata": {},
   "outputs": [
    {
     "name": "stdout",
     "output_type": "stream",
     "text": [
      "Measuring station: Baana\n",
      "Regression coefficient for variable 'precipitation': -52.2\n",
      "Regression coefficient for variable 'snow depth':-32.9\n",
      "Regression coefficient for variable 'temperature':169.2\n",
      "Score:0.58\n"
     ]
    }
   ],
   "source": [
    "#read in file\n",
    "bike = pd.read_csv(\"biking.csv\")\n",
    "\n",
    "def cycling_weather_continues(station):\n",
    "    variables = bike[[\"Precipitation amount (mm)\", \"Snow depth (cm)\", \"Air temperature (degC)\"]]\n",
    "    model = LinearRegression(fit_intercept=True)\n",
    "    model.fit(variables,bike[station])\n",
    "    score = model.score(variables,bike[station])\n",
    "    return (model.coef_, score)\n",
    "    \n",
    "\n",
    "def main():\n",
    "    station = \"Baana\"\n",
    "    coeff,sc = cycling_weather_continues(station)\n",
    "    print(f\"Measuring station:\", station)\n",
    "    print(f\"Regression coefficient for variable 'precipitation': {coeff[0]:.1f}\")\n",
    "    print(f\"Regression coefficient for variable 'snow depth':{coeff[1]:.1f}\")\n",
    "    print(f\"Regression coefficient for variable 'temperature':{coeff[2]:.1f}\")\n",
    "    print(f\"Score:{sc:.2f}\")\n",
    "    \n",
    "main()\n"
   ]
  },
  {
   "cell_type": "markdown",
   "id": "handed-thousand",
   "metadata": {},
   "source": [
    "# ML Naive Bayes Classification\n",
    "\n",
    "This is the next section of the exercises, from: https://csmastersuh.github.io/data_analysis_with_python_2020/bayes.html\n",
    "\n",
    "In addition to the reading, I recommend this video: https://www.youtube.com/watch?v=CPqOCI0ahss\n",
    "\n",
    "\n",
    "## Exercise 1: Blob Classification\n",
    "\n",
    "(**OPTIONAL**) This one is very vague, and they're actually asking you to generate your own test data using the `make_blobs` function from `sklearn`'s `datasets` submodule. I've already started that work for you. But honestly if you want to skip it, I don't think it's a helpful starting question."
   ]
  },
  {
   "cell_type": "code",
   "execution_count": 9,
   "id": "minute-saskatchewan",
   "metadata": {},
   "outputs": [
    {
     "name": "stdout",
     "output_type": "stream",
     "text": [
      "The accuracy score is None\n",
      "array([[2.0, 2.0, 0.0, 2.5, None],\n",
      "       [2.0, 3.0, 1.0, 1.5, None],\n",
      "       [2.0, 2.0, 6.0, 3.5, None],\n",
      "       [2.0, 2.0, 3.0, 1.2, None],\n",
      "       [2.0, 4.0, 4.0, 2.7, None]], dtype=object)\n"
     ]
    }
   ],
   "source": [
    "def blob_classification(X, y):\n",
    "    # Put ML stuff here\n",
    "    pass\n",
    "\n",
    "# Create the training data and validation data\n",
    "X, y = datasets.make_blobs(100, 2, centers=2, random_state=2, cluster_std=2.5)\n",
    "# Run your ML predictions\n",
    "print(\"The accuracy score is\", blob_classification(X, y))\n",
    "# Run this on some new data\n",
    "a=np.array([[2, 2, 0, 2.5],\n",
    "            [2, 3, 1, 1.5],\n",
    "            [2, 2, 6, 3.5],\n",
    "            [2, 2, 3, 1.2],\n",
    "            [2, 4, 4, 2.7]])\n",
    "accuracies = []\n",
    "for row in a:\n",
    "    X,y = datasets.make_blobs(100, int(row[0]), centers=int(row[1]),\n",
    "                              random_state=int(row[2]), cluster_std=row[3])\n",
    "    accuracies.append(blob_classification(X, y))\n",
    "print(repr(np.hstack([a, np.array(accuracies)[:,np.newaxis]])))\n",
    "# The last column should be the categorizations"
   ]
  },
  {
   "cell_type": "markdown",
   "id": "herbal-woman",
   "metadata": {},
   "source": [
    "## Exercise 2: Plant Classification\n",
    "\n",
    "This is a much better question. The Iris dataset is a classic: https://en.wikipedia.org/wiki/Iris_flower_data_set\n",
    "\n",
    "The wikipedia page gives an example of how to load the dataset."
   ]
  },
  {
   "cell_type": "code",
   "execution_count": 56,
   "id": "knowing-salon",
   "metadata": {},
   "outputs": [],
   "source": [
    "from sklearn.datasets import load_iris\n",
    "from sklearn.metrics import accuracy_score"
   ]
  },
  {
   "cell_type": "code",
   "execution_count": 60,
   "id": "martial-irrigation",
   "metadata": {},
   "outputs": [
    {
     "data": {
      "text/plain": [
       "0.9666666666666667"
      ]
     },
     "execution_count": 60,
     "metadata": {},
     "output_type": "execute_result"
    }
   ],
   "source": [
    "def plant_classification():\n",
    "    #load in dataset\n",
    "    iris = load_iris()\n",
    "    X = iris[\"data\"]\n",
    "    y = iris[\"target\"]\n",
    "    \n",
    "    #split data into training/testing\n",
    "    x_train, x_split, y_train, y_split = train_test_split(X,y, train_size= 0.80,random_state=0)\n",
    "    \n",
    "    #guassian naive bayes to fit training data\n",
    "    model = GaussianNB()\n",
    "    model.fit(x_train,y_train)\n",
    "    \n",
    "    #predict labels\n",
    "    labels_fitted = model.predict(x_split)\n",
    "    \n",
    "    return accuracy_score(labels_fitted,y_split)\n",
    "\n",
    "\n",
    "plant_classification()"
   ]
  },
  {
   "cell_type": "markdown",
   "id": "liked-diagnosis",
   "metadata": {},
   "source": [
    "## Exercise 3: Word Classification\n",
    "\n",
    "(**Skip**)\n",
    "\n",
    "This one is too much. They give some of the data as an XML file. It's an interesting problem, and you can find the data (and solution) [here](https://github.com/AnkS4/hy-data-analysis-with-python-2020/tree/master/part06-e03_word_classification/src) if you want to tackle it, but I'm skipping it.\n"
   ]
  },
  {
   "cell_type": "code",
   "execution_count": null,
   "id": "robust-width",
   "metadata": {},
   "outputs": [],
   "source": []
  },
  {
   "cell_type": "markdown",
   "id": "massive-right",
   "metadata": {},
   "source": [
    "## Exercise 4: Spam Detection\n",
    "\n",
    "Download [ham.txt.gz](https://github.com/AnkS4/hy-data-analysis-with-python-2020/raw/master/part06-e04_spam_detection/src/ham.txt.gz) and [spam.txt.gz](https://github.com/AnkS4/hy-data-analysis-with-python-2020/raw/master/part06-e04_spam_detection/src/spam.txt.gz).\n",
    "\n",
    "This one is much more interesting and reasonable. It requires processing some large text files, but that's actually the easiest part, as shown in the code below. The idea is that you have spam (bad emails) and ham (good emails), and you want to determine which is which. I've done similar email processing (detecting job ads for a conference) and I was impressed with how easily I could train a little data and get very good results."
   ]
  },
  {
   "cell_type": "code",
   "execution_count": 73,
   "id": "mathematical-herald",
   "metadata": {},
   "outputs": [],
   "source": [
    "from sklearn.feature_extraction.text import CountVectorizer\n",
    "from sklearn.naive_bayes import MultinomialNB"
   ]
  },
  {
   "cell_type": "code",
   "execution_count": 76,
   "id": "opponent-young",
   "metadata": {},
   "outputs": [
    {
     "name": "stdout",
     "output_type": "stream",
     "text": [
      "Number of spam emails loaded as strings: 500\n",
      "Number of ham emails loaded as strings: 2500\n",
      "accuracy score:  0.9613333333333334\n",
      "test sample size:  2250\n",
      "num misclassified points:  29\n"
     ]
    }
   ],
   "source": [
    "import gzip\n",
    "\n",
    "# Load the spam emails as strings in a list.\n",
    "with gzip.open('spam.txt.gz', 'rb') as spam_file:\n",
    "    spam = spam_file.readlines()\n",
    "print(\"Number of spam emails loaded as strings:\", len(spam))\n",
    "\n",
    "# Now do the same thing with the `ham.txt.gz`\n",
    "with gzip.open('ham.txt.gz', 'rb') as ham_file:\n",
    "    ham = ham_file.readlines()\n",
    "print(\"Number of ham emails loaded as strings:\", len(ham))\n",
    "\n",
    "# And then do the actual ML stuff\n",
    "emails = ham + spam\n",
    "\n",
    "vec = CountVectorizer()\n",
    "emails = vec.fit_transform(emails).toarray()\n",
    "labels = np.zeros(len(emails))\n",
    "labels[len(ham):] = 1\n",
    "\n",
    "x_train, x_split, y_train, y_split = train_test_split(emails,labels, train_size= 0.75,random_state=1)\n",
    "\n",
    "model = MultinomialNB()\n",
    "model.fit(x_train,y_train)\n",
    "    \n",
    "#predict labels\n",
    "labels_fitted = model.predict(x_split)\n",
    "    \n",
    "print(\"accuracy score: \", accuracy_score(labels_fitted,y_split))\n",
    "print(\"test sample size: \", len(x_train))\n",
    "print(\"num misclassified points: \", (labels_fitted != y_split).sum())"
   ]
  },
  {
   "cell_type": "markdown",
   "id": "tropical-bunch",
   "metadata": {},
   "source": [
    "# ML Clustering\n",
    "\n",
    "This is the last section: https://csmastersuh.github.io/data_analysis_with_python_2020/clustering.html\n",
    "\n",
    "This section is one of the most interesting in my opinion. K-Means is a pretty straightforward tool, and is really worth learning how to use it."
   ]
  },
  {
   "cell_type": "markdown",
   "id": "comprehensive-medication",
   "metadata": {},
   "source": [
    "## Exercise 5: Plant Clustering\n",
    "\n",
    "Same deal as before; use the IRIS dataset. Since this has so many parameters, it can be tricky to make a good visualization."
   ]
  },
  {
   "cell_type": "code",
   "execution_count": 82,
   "id": "gross-spoke",
   "metadata": {},
   "outputs": [],
   "source": [
    "from sklearn.cluster import KMeans"
   ]
  },
  {
   "cell_type": "code",
   "execution_count": 91,
   "id": "collected-singing",
   "metadata": {},
   "outputs": [
    {
     "data": {
      "image/png": "[encoded data removed]",
      "text/plain": [
       "<Figure size 432x288 with 1 Axes>"
      ]
     },
     "metadata": {
      "needs_background": "light"
     },
     "output_type": "display_data"
    },
    {
     "name": "stdout",
     "output_type": "stream",
     "text": [
      "accuracy score:  0.8933333333333333\n"
     ]
    }
   ],
   "source": [
    "#apply k-means clustering with 3 clusters\n",
    "def find_permutation(n_clusters, real_labels, labels):\n",
    "    \"\"\"\n",
    "    funcition from ML Clustering site\n",
    "    \"\"\"\n",
    "    permutation=[]\n",
    "    for i in range(n_clusters):\n",
    "        idx = labels == i\n",
    "        new_label=scipy.stats.mode(real_labels[idx])[0][0]  # Choose the most common label among data points in the cluster\n",
    "        permutation.append(new_label)\n",
    "    return permutation\n",
    "\n",
    "\n",
    "def plant_clustering():\n",
    "    iris = load_iris()\n",
    "    X = iris[\"data\"]\n",
    "    y = iris[\"target\"]\n",
    "\n",
    "    model = KMeans(3)\n",
    "    model.fit(X)\n",
    "    permutation = find_permutation(3, y, model.labels_)\n",
    "    new_labels = [ permutation[label] for label in model.labels_] \n",
    "    \n",
    "    plt.scatter(X[:,0],X[:,1], c=new_labels);\n",
    "    plt.scatter(model.cluster_centers_[:,0], model.cluster_centers_[:,1], s=100, color=\"red\"); # Show the centres\n",
    "    plt.show()\n",
    "    \n",
    "    acc=accuracy_score(y, new_labels)\n",
    "    return acc\n",
    "\n",
    "score = plant_clustering()\n",
    "print(\"accuracy score: \", score)"
   ]
  },
  {
   "cell_type": "markdown",
   "id": "crude-transcript",
   "metadata": {},
   "source": [
    "## Exercise 6: Non-convex Clusters\n",
    "\n",
    "The data for this question is [here](https://raw.githubusercontent.com/AnkS4/hy-data-analysis-with-python-2020/master/part06-e06_nonconvex_clusters/src/data.tsv).\n",
    "\n",
    "This one shows off a different clustering algorithm ([`DBSCAN`](https://scikit-learn.org/stable/modules/generated/sklearn.cluster.DBSCAN.html)), which is \"Good for data which contains clusters of similar density\". I wasn't very familiar with DBSCAN, but it does seem much better than KMeans. It doesn't require you to figure out the number of clusters, and seems to be tricked less by unusual data. [This page](https://www.kdnuggets.com/2020/04/dbscan-clustering-algorithm-machine-learning.html) was very helpful in breaking that difference down.\n",
    "\n",
    "The reference answer uses a `for` loop and `np.arange` to try `e` values from 0.05 to 0.2 in 0.05 increments, but I don't mind if you just manually try some different `e` values.\n",
    "\n",
    "Please do make a visualization with clusters colored, since I think that really highlights what we are doing!"
   ]
  },
  {
   "cell_type": "code",
   "execution_count": null,
   "id": "renewable-capitol",
   "metadata": {},
   "outputs": [],
   "source": []
  },
  {
   "cell_type": "markdown",
   "id": "british-outdoors",
   "metadata": {},
   "source": [
    "## Exercise 7: Binding Sites\n",
    "\n",
    "Download the [`data.seq` file](https://raw.githubusercontent.com/AnkS4/hy-data-analysis-with-python-2020/master/part06-e07_binding_sites/src/data.seq); note that it is just a plain textual data file, despite the fancy extension.\n",
    "\n",
    "They ask you to define `get_features_and_labels` to accept a filename, even though there's only one test file. Up to you if you want to hardcode the file path in or make it a flexible function.\n",
    "\n",
    "There are multiple parts here, and they ask you to compare the euclidean and hamming distance. I think it's worth thinking about - if you don't get what they mean, do ask!"
   ]
  },
  {
   "cell_type": "code",
   "execution_count": 21,
   "id": "moving-camcorder",
   "metadata": {},
   "outputs": [],
   "source": [
    "\n",
    "# The `find_permutation` function provided in the text, for your convenience\n",
    "def find_permutation(n_clusters, real_labels, labels):\n",
    "    permutation=[]\n",
    "    for i in range(n_clusters):\n",
    "        idx = labels == i\n",
    "        # Choose the most common label among data points in the cluster\n",
    "        new_label=scipy.stats.mode(real_labels[idx])[0][0]\n",
    "        permutation.append(new_label)\n",
    "    return permutation"
   ]
  }
 ],
 "metadata": {
  "kernelspec": {
   "display_name": "Python 3",
   "language": "python",
   "name": "python3"
  },
  "language_info": {
   "codemirror_mode": {
    "name": "ipython",
    "version": 3
   },
   "file_extension": ".py",
   "mimetype": "text/x-python",
   "name": "python",
   "nbconvert_exporter": "python",
   "pygments_lexer": "ipython3",
   "version": "3.9.1"
  }
 },
 "nbformat": 4,
 "nbformat_minor": 5
}
